{
 "cells": [
  {
   "cell_type": "markdown",
   "metadata": {},
   "source": [
    "# Air Quality Analysis - San Francisco PM 2.5 May\n",
    "1. Retrieve small particle data for San Francisco in May 2018,2019, & 2020.\n",
    "2. Explore and compare data retreived from API vs. S3 storage.\n",
    "3. Prepare data to be merged with existing Jan-Apr data."
   ]
  },
  {
   "cell_type": "markdown",
   "metadata": {},
   "source": [
    "## Gathering Data (Options and Information)\n",
    "Options for gathering data:\n",
    "1. OpenAQ API\n",
    " - Access the most recent 90 days of data\n",
    " - Accessible via a URL Query\n",
    " - Documentation - https://docs.openaq.org/\n",
    "2. OpenAQ AWS S3 Retention\n",
    " - Access full dataset\n",
    " - Accessible via query tool such as Amazon Athena, Apache Spark, or Google BigQuery\n",
    " - Documentation - https://gist.github.com/jflasher/573525aff9a5d8a966e5718272ceb25a\n",
    " - Medium Tutorial - https://medium.com/@openaq/how-in-the-world-do-you-access-air-quality-data-older-than-90-days-on-the-openaq-platform-8562df519ecd\n",
    "3. EPA AirNow API\n",
    " - Documentation - https://docs.airnowapi.org/"
   ]
  },
  {
   "cell_type": "markdown",
   "metadata": {},
   "source": [
    "### OpenAQ API (URL Query)\n",
    "Since May2020 data is within the last 90 days, we could use the API with a URL query to access the measurments for San Francisco in the month of May. However, becasue 2018 and 2019 data is outside of this timeframe, we'll need to use a query tool to query OpenAQ's AWS S3 file storage. \n",
    "\n",
    "**URL Parameters & URL for San Francisco**  \n",
    "City: San Francisco-Oakland-Fremont  \n",
    "Location: San Francisco  \n",
    "Parameter: 2.5  \n",
    "Date: 2020-05-01 to 2020-05-31  \n",
    "Format: csv  \n",
    "\n",
    "Clicking the link below downloads a CSV file with the data we specified in the URL.  \n",
    "https://api.openaq.org/v1/measurements?city=San%20Francisco-Oakland-Fremont&location=San%20Francisco&parameter=pm25&date_from=2020-05-01&date_to=2020-05-31&format=csv  "
   ]
  },
  {
   "cell_type": "markdown",
   "metadata": {},
   "source": [
    "### OpenAQ AWS S3 Retention (Athena)\n",
    "Additionally, we can query the entirety of the OpenAQ S3 \"bucket\". As per the instructions, we must:\n",
    "1. Create an AWS account\n",
    "2. Change to the optimal server **US East (N. Virginia)**\n",
    "3. Create an S3 bucket and folder for our personal data storage.\n",
    "4. Create a table for the OpenAQ date  \n",
    "```python\n",
    "CREATE EXTERNAL TABLE `openaq`(\n",
    "  `date` struct<utc:string,local:string> COMMENT 'from deserializer', \n",
    "  `parameter` string COMMENT 'from deserializer', \n",
    "  `location` string COMMENT 'from deserializer', \n",
    "  `value` float COMMENT 'from deserializer', \n",
    "  `unit` string COMMENT 'from deserializer', \n",
    "  `city` string COMMENT 'from deserializer', \n",
    "  `attribution` array<struct<name:string,url:string>> COMMENT 'from deserializer', \n",
    "  `averagingperiod` struct<unit:string,value:float> COMMENT 'from deserializer', \n",
    "  `coordinates` struct<latitude:float,longitude:float> COMMENT 'from deserializer', \n",
    "  `country` string COMMENT 'from deserializer', \n",
    "  `sourcename` string COMMENT 'from deserializer', \n",
    "  `sourcetype` string COMMENT 'from deserializer', \n",
    "  `mobile` string COMMENT 'from deserializer')\n",
    "ROW FORMAT SERDE \n",
    "  'org.openx.data.jsonserde.JsonSerDe' \n",
    "STORED AS INPUTFORMAT \n",
    "  'org.apache.hadoop.mapred.TextInputFormat' \n",
    "OUTPUTFORMAT \n",
    "  'org.apache.hadoop.hive.ql.io.HiveIgnoreKeyTextOutputFormat'\n",
    "LOCATION\n",
    "  's3://openaq-fetches/realtime-gzipped'\n",
    "TBLPROPERTIES (\n",
    "  'transient_lastDdlTime'='1518373755')\n",
    "```\n",
    "5. Run a SQL query to retreive data. (2018,2019,2020)  \n",
    "```python\n",
    "SELECT *\n",
    "FROM openaq\n",
    "WHERE date.utc\n",
    "    BETWEEN '2018-05-01'\n",
    "        AND '2018-05-31'\n",
    "        AND parameter = 'pm25'\n",
    "        AND value >= 0\n",
    "        AND location = 'San Francisco'\n",
    "```"
   ]
  },
  {
   "cell_type": "markdown",
   "metadata": {},
   "source": [
    "### EPA AirNow API\n",
    "~ will do later ~"
   ]
  },
  {
   "cell_type": "markdown",
   "metadata": {},
   "source": [
    "## Load & Explore Data with Python\n",
    "**Dependencies**"
   ]
  },
  {
   "cell_type": "code",
   "execution_count": 1,
   "metadata": {},
   "outputs": [],
   "source": [
    "import pandas as pd\n",
    "from IPython.core.interactiveshell import InteractiveShell\n",
    "InteractiveShell.ast_node_interactivity = \"all\""
   ]
  },
  {
   "cell_type": "markdown",
   "metadata": {},
   "source": [
    "**Import files with read.csv()**"
   ]
  },
  {
   "cell_type": "code",
   "execution_count": 2,
   "metadata": {
    "scrolled": true
   },
   "outputs": [],
   "source": [
    "df1 = pd.read_csv(\"SanFrancisco-May2020-OpenAQ_API.csv\")\n",
    "df2 = pd.read_csv(\"SanFrancisco-May2020-Athena_Query.csv\")"
   ]
  },
  {
   "cell_type": "markdown",
   "metadata": {},
   "source": [
    "Comparing the number of rows"
   ]
  },
  {
   "cell_type": "code",
   "execution_count": 3,
   "metadata": {},
   "outputs": [
    {
     "data": {
      "text/plain": [
       "'API dataframe has 565 rows.'"
      ]
     },
     "execution_count": 3,
     "metadata": {},
     "output_type": "execute_result"
    },
    {
     "data": {
      "text/plain": [
       "'Query dataframe has 504 rows.'"
      ]
     },
     "execution_count": 3,
     "metadata": {},
     "output_type": "execute_result"
    }
   ],
   "source": [
    "f\"API dataframe has {len(df1)} rows.\"\n",
    "f\"Query dataframe has {len(df2)} rows.\""
   ]
  },
  {
   "cell_type": "markdown",
   "metadata": {},
   "source": [
    "Comparing the \"head\" of both dataframes"
   ]
  },
  {
   "cell_type": "code",
   "execution_count": 4,
   "metadata": {},
   "outputs": [
    {
     "data": {
      "text/html": [
       "<div>\n",
       "<style scoped>\n",
       "    .dataframe tbody tr th:only-of-type {\n",
       "        vertical-align: middle;\n",
       "    }\n",
       "\n",
       "    .dataframe tbody tr th {\n",
       "        vertical-align: top;\n",
       "    }\n",
       "\n",
       "    .dataframe thead th {\n",
       "        text-align: right;\n",
       "    }\n",
       "</style>\n",
       "<table border=\"1\" class=\"dataframe\">\n",
       "  <thead>\n",
       "    <tr style=\"text-align: right;\">\n",
       "      <th></th>\n",
       "      <th>location</th>\n",
       "      <th>city</th>\n",
       "      <th>country</th>\n",
       "      <th>utc</th>\n",
       "      <th>local</th>\n",
       "      <th>parameter</th>\n",
       "      <th>value</th>\n",
       "      <th>unit</th>\n",
       "      <th>latitude</th>\n",
       "      <th>longitude</th>\n",
       "      <th>attribution</th>\n",
       "    </tr>\n",
       "  </thead>\n",
       "  <tbody>\n",
       "    <tr>\n",
       "      <th>0</th>\n",
       "      <td>San Francisco</td>\n",
       "      <td>San Francisco-Oakland-Fremont</td>\n",
       "      <td>US</td>\n",
       "      <td>2020-05-30T01:00:00.000Z</td>\n",
       "      <td>2020-05-29T17:00:00-08:00</td>\n",
       "      <td>pm25</td>\n",
       "      <td>2</td>\n",
       "      <td>µg/m³</td>\n",
       "      <td>37.7658</td>\n",
       "      <td>-122.3978</td>\n",
       "      <td>[{\"name\":\"US EPA AirNow\",\"url\":\"http://www.air...</td>\n",
       "    </tr>\n",
       "    <tr>\n",
       "      <th>1</th>\n",
       "      <td>San Francisco</td>\n",
       "      <td>San Francisco-Oakland-Fremont</td>\n",
       "      <td>US</td>\n",
       "      <td>2020-05-30T00:00:00.000Z</td>\n",
       "      <td>2020-05-29T16:00:00-08:00</td>\n",
       "      <td>pm25</td>\n",
       "      <td>3</td>\n",
       "      <td>µg/m³</td>\n",
       "      <td>37.7658</td>\n",
       "      <td>-122.3978</td>\n",
       "      <td>[{\"name\":\"US EPA AirNow\",\"url\":\"http://www.air...</td>\n",
       "    </tr>\n",
       "    <tr>\n",
       "      <th>2</th>\n",
       "      <td>San Francisco</td>\n",
       "      <td>San Francisco-Oakland-Fremont</td>\n",
       "      <td>US</td>\n",
       "      <td>2020-05-29T23:00:00.000Z</td>\n",
       "      <td>2020-05-29T15:00:00-08:00</td>\n",
       "      <td>pm25</td>\n",
       "      <td>3</td>\n",
       "      <td>µg/m³</td>\n",
       "      <td>37.7658</td>\n",
       "      <td>-122.3978</td>\n",
       "      <td>[{\"name\":\"US EPA AirNow\",\"url\":\"http://www.air...</td>\n",
       "    </tr>\n",
       "    <tr>\n",
       "      <th>3</th>\n",
       "      <td>San Francisco</td>\n",
       "      <td>San Francisco-Oakland-Fremont</td>\n",
       "      <td>US</td>\n",
       "      <td>2020-05-29T22:00:00.000Z</td>\n",
       "      <td>2020-05-29T14:00:00-08:00</td>\n",
       "      <td>pm25</td>\n",
       "      <td>4</td>\n",
       "      <td>µg/m³</td>\n",
       "      <td>37.7658</td>\n",
       "      <td>-122.3978</td>\n",
       "      <td>[{\"name\":\"US EPA AirNow\",\"url\":\"http://www.air...</td>\n",
       "    </tr>\n",
       "    <tr>\n",
       "      <th>4</th>\n",
       "      <td>San Francisco</td>\n",
       "      <td>San Francisco-Oakland-Fremont</td>\n",
       "      <td>US</td>\n",
       "      <td>2020-05-29T21:00:00.000Z</td>\n",
       "      <td>2020-05-29T13:00:00-08:00</td>\n",
       "      <td>pm25</td>\n",
       "      <td>3</td>\n",
       "      <td>µg/m³</td>\n",
       "      <td>37.7658</td>\n",
       "      <td>-122.3978</td>\n",
       "      <td>[{\"name\":\"US EPA AirNow\",\"url\":\"http://www.air...</td>\n",
       "    </tr>\n",
       "  </tbody>\n",
       "</table>\n",
       "</div>"
      ],
      "text/plain": [
       "        location                           city country  \\\n",
       "0  San Francisco  San Francisco-Oakland-Fremont      US   \n",
       "1  San Francisco  San Francisco-Oakland-Fremont      US   \n",
       "2  San Francisco  San Francisco-Oakland-Fremont      US   \n",
       "3  San Francisco  San Francisco-Oakland-Fremont      US   \n",
       "4  San Francisco  San Francisco-Oakland-Fremont      US   \n",
       "\n",
       "                        utc                      local parameter  value  \\\n",
       "0  2020-05-30T01:00:00.000Z  2020-05-29T17:00:00-08:00      pm25      2   \n",
       "1  2020-05-30T00:00:00.000Z  2020-05-29T16:00:00-08:00      pm25      3   \n",
       "2  2020-05-29T23:00:00.000Z  2020-05-29T15:00:00-08:00      pm25      3   \n",
       "3  2020-05-29T22:00:00.000Z  2020-05-29T14:00:00-08:00      pm25      4   \n",
       "4  2020-05-29T21:00:00.000Z  2020-05-29T13:00:00-08:00      pm25      3   \n",
       "\n",
       "    unit  latitude  longitude  \\\n",
       "0  µg/m³   37.7658  -122.3978   \n",
       "1  µg/m³   37.7658  -122.3978   \n",
       "2  µg/m³   37.7658  -122.3978   \n",
       "3  µg/m³   37.7658  -122.3978   \n",
       "4  µg/m³   37.7658  -122.3978   \n",
       "\n",
       "                                         attribution  \n",
       "0  [{\"name\":\"US EPA AirNow\",\"url\":\"http://www.air...  \n",
       "1  [{\"name\":\"US EPA AirNow\",\"url\":\"http://www.air...  \n",
       "2  [{\"name\":\"US EPA AirNow\",\"url\":\"http://www.air...  \n",
       "3  [{\"name\":\"US EPA AirNow\",\"url\":\"http://www.air...  \n",
       "4  [{\"name\":\"US EPA AirNow\",\"url\":\"http://www.air...  "
      ]
     },
     "execution_count": 4,
     "metadata": {},
     "output_type": "execute_result"
    },
    {
     "data": {
      "text/html": [
       "<div>\n",
       "<style scoped>\n",
       "    .dataframe tbody tr th:only-of-type {\n",
       "        vertical-align: middle;\n",
       "    }\n",
       "\n",
       "    .dataframe tbody tr th {\n",
       "        vertical-align: top;\n",
       "    }\n",
       "\n",
       "    .dataframe thead th {\n",
       "        text-align: right;\n",
       "    }\n",
       "</style>\n",
       "<table border=\"1\" class=\"dataframe\">\n",
       "  <thead>\n",
       "    <tr style=\"text-align: right;\">\n",
       "      <th></th>\n",
       "      <th>date</th>\n",
       "      <th>parameter</th>\n",
       "      <th>location</th>\n",
       "      <th>value</th>\n",
       "      <th>unit</th>\n",
       "      <th>city</th>\n",
       "      <th>attribution</th>\n",
       "      <th>averagingperiod</th>\n",
       "      <th>coordinates</th>\n",
       "      <th>country</th>\n",
       "      <th>sourcename</th>\n",
       "      <th>sourcetype</th>\n",
       "      <th>mobile</th>\n",
       "    </tr>\n",
       "  </thead>\n",
       "  <tbody>\n",
       "    <tr>\n",
       "      <th>0</th>\n",
       "      <td>{utc=2020-05-02T03:00:00.000Z, local=2020-05-0...</td>\n",
       "      <td>pm25</td>\n",
       "      <td>San Francisco</td>\n",
       "      <td>3</td>\n",
       "      <td>µg/m³</td>\n",
       "      <td>San Francisco-Oakland-Fremont</td>\n",
       "      <td>[{name=US EPA AirNow, url=http://www.airnow.go...</td>\n",
       "      <td>{unit=hours, value=1.0}</td>\n",
       "      <td>{latitude=37.7658, longitude=-122.3978}</td>\n",
       "      <td>US</td>\n",
       "      <td>AirNow</td>\n",
       "      <td>government</td>\n",
       "      <td>False</td>\n",
       "    </tr>\n",
       "    <tr>\n",
       "      <th>1</th>\n",
       "      <td>{utc=2020-05-04T04:00:00.000Z, local=2020-05-0...</td>\n",
       "      <td>pm25</td>\n",
       "      <td>San Francisco</td>\n",
       "      <td>5</td>\n",
       "      <td>µg/m³</td>\n",
       "      <td>San Francisco-Oakland-Fremont</td>\n",
       "      <td>[{name=US EPA AirNow, url=http://www.airnow.go...</td>\n",
       "      <td>{unit=hours, value=1.0}</td>\n",
       "      <td>{latitude=37.7658, longitude=-122.3978}</td>\n",
       "      <td>US</td>\n",
       "      <td>AirNow</td>\n",
       "      <td>government</td>\n",
       "      <td>False</td>\n",
       "    </tr>\n",
       "    <tr>\n",
       "      <th>2</th>\n",
       "      <td>{utc=2020-05-02T00:00:00.000Z, local=2020-05-0...</td>\n",
       "      <td>pm25</td>\n",
       "      <td>San Francisco</td>\n",
       "      <td>4</td>\n",
       "      <td>µg/m³</td>\n",
       "      <td>San Francisco-Oakland-Fremont</td>\n",
       "      <td>[{name=US EPA AirNow, url=http://www.airnow.go...</td>\n",
       "      <td>{unit=hours, value=1.0}</td>\n",
       "      <td>{latitude=37.7658, longitude=-122.3978}</td>\n",
       "      <td>US</td>\n",
       "      <td>AirNow</td>\n",
       "      <td>government</td>\n",
       "      <td>False</td>\n",
       "    </tr>\n",
       "    <tr>\n",
       "      <th>3</th>\n",
       "      <td>{utc=2020-05-03T04:00:00.000Z, local=2020-05-0...</td>\n",
       "      <td>pm25</td>\n",
       "      <td>San Francisco</td>\n",
       "      <td>2</td>\n",
       "      <td>µg/m³</td>\n",
       "      <td>San Francisco-Oakland-Fremont</td>\n",
       "      <td>[{name=US EPA AirNow, url=http://www.airnow.go...</td>\n",
       "      <td>{unit=hours, value=1.0}</td>\n",
       "      <td>{latitude=37.7658, longitude=-122.3978}</td>\n",
       "      <td>US</td>\n",
       "      <td>AirNow</td>\n",
       "      <td>government</td>\n",
       "      <td>False</td>\n",
       "    </tr>\n",
       "    <tr>\n",
       "      <th>4</th>\n",
       "      <td>{utc=2020-05-06T06:00:00.000Z, local=2020-05-0...</td>\n",
       "      <td>pm25</td>\n",
       "      <td>San Francisco</td>\n",
       "      <td>10</td>\n",
       "      <td>µg/m³</td>\n",
       "      <td>San Francisco-Oakland-Fremont</td>\n",
       "      <td>[{name=US EPA AirNow, url=http://www.airnow.go...</td>\n",
       "      <td>{unit=hours, value=1.0}</td>\n",
       "      <td>{latitude=37.7658, longitude=-122.3978}</td>\n",
       "      <td>US</td>\n",
       "      <td>AirNow</td>\n",
       "      <td>government</td>\n",
       "      <td>False</td>\n",
       "    </tr>\n",
       "  </tbody>\n",
       "</table>\n",
       "</div>"
      ],
      "text/plain": [
       "                                                date parameter       location  \\\n",
       "0  {utc=2020-05-02T03:00:00.000Z, local=2020-05-0...      pm25  San Francisco   \n",
       "1  {utc=2020-05-04T04:00:00.000Z, local=2020-05-0...      pm25  San Francisco   \n",
       "2  {utc=2020-05-02T00:00:00.000Z, local=2020-05-0...      pm25  San Francisco   \n",
       "3  {utc=2020-05-03T04:00:00.000Z, local=2020-05-0...      pm25  San Francisco   \n",
       "4  {utc=2020-05-06T06:00:00.000Z, local=2020-05-0...      pm25  San Francisco   \n",
       "\n",
       "   value   unit                           city  \\\n",
       "0      3  µg/m³  San Francisco-Oakland-Fremont   \n",
       "1      5  µg/m³  San Francisco-Oakland-Fremont   \n",
       "2      4  µg/m³  San Francisco-Oakland-Fremont   \n",
       "3      2  µg/m³  San Francisco-Oakland-Fremont   \n",
       "4     10  µg/m³  San Francisco-Oakland-Fremont   \n",
       "\n",
       "                                         attribution          averagingperiod  \\\n",
       "0  [{name=US EPA AirNow, url=http://www.airnow.go...  {unit=hours, value=1.0}   \n",
       "1  [{name=US EPA AirNow, url=http://www.airnow.go...  {unit=hours, value=1.0}   \n",
       "2  [{name=US EPA AirNow, url=http://www.airnow.go...  {unit=hours, value=1.0}   \n",
       "3  [{name=US EPA AirNow, url=http://www.airnow.go...  {unit=hours, value=1.0}   \n",
       "4  [{name=US EPA AirNow, url=http://www.airnow.go...  {unit=hours, value=1.0}   \n",
       "\n",
       "                               coordinates country sourcename  sourcetype  \\\n",
       "0  {latitude=37.7658, longitude=-122.3978}      US     AirNow  government   \n",
       "1  {latitude=37.7658, longitude=-122.3978}      US     AirNow  government   \n",
       "2  {latitude=37.7658, longitude=-122.3978}      US     AirNow  government   \n",
       "3  {latitude=37.7658, longitude=-122.3978}      US     AirNow  government   \n",
       "4  {latitude=37.7658, longitude=-122.3978}      US     AirNow  government   \n",
       "\n",
       "   mobile  \n",
       "0   False  \n",
       "1   False  \n",
       "2   False  \n",
       "3   False  \n",
       "4   False  "
      ]
     },
     "execution_count": 4,
     "metadata": {},
     "output_type": "execute_result"
    }
   ],
   "source": [
    "df1.head()\n",
    "df2.head()"
   ]
  },
  {
   "cell_type": "markdown",
   "metadata": {},
   "source": [
    "## Cleaning the Data"
   ]
  },
  {
   "cell_type": "markdown",
   "metadata": {},
   "source": [
    "~ will do later ~"
   ]
  }
 ],
 "metadata": {
  "kernelspec": {
   "display_name": "Python 3",
   "language": "python",
   "name": "python3"
  },
  "language_info": {
   "codemirror_mode": {
    "name": "ipython",
    "version": 3
   },
   "file_extension": ".py",
   "mimetype": "text/x-python",
   "name": "python",
   "nbconvert_exporter": "python",
   "pygments_lexer": "ipython3",
   "version": "3.7.6"
  },
  "toc": {
   "base_numbering": 1,
   "nav_menu": {
    "height": "92px",
    "width": "276px"
   },
   "number_sections": true,
   "sideBar": true,
   "skip_h1_title": false,
   "title_cell": "Table of Contents",
   "title_sidebar": "Contents",
   "toc_cell": false,
   "toc_position": {
    "height": "577px",
    "left": "310px",
    "top": "123px",
    "width": "320px"
   },
   "toc_section_display": true,
   "toc_window_display": true
  }
 },
 "nbformat": 4,
 "nbformat_minor": 4
}
